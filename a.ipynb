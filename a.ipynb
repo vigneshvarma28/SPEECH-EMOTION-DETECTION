{
 "cells": [
  {
   "cell_type": "code",
   "execution_count": 1,
   "metadata": {},
   "outputs": [
    {
     "name": "stdout",
     "output_type": "stream",
     "text": [
      "PySoundFile installed successfully: 0.9.0\n",
      "Loaded audio successfully: (72838,) 22050\n"
     ]
    }
   ],
   "source": [
    "import soundfile\n",
    "print(\"PySoundFile installed successfully:\", soundfile.__version__)\n",
    "import librosa\n",
    "audio_path = r\"C:\\Users\\VIGNESH VARMA\\OneDrive\\Desktop\\SPEECH EMOTION RECOGNITION\\dataset\\Actor_01\\03-01-01-01-01-01-01.wav\"\n",
    "y, sr = librosa.load(audio_path, sr=22050)\n",
    "print(\"Loaded audio successfully:\", y.shape, sr)"
   ]
  },
  {
   "cell_type": "code",
   "execution_count": 1,
   "metadata": {},
   "outputs": [
    {
     "ename": "SyntaxError",
     "evalue": "(unicode error) 'unicodeescape' codec can't decode bytes in position 2-3: truncated \\UXXXXXXXX escape (308773450.py, line 3)",
     "output_type": "error",
     "traceback": [
      "\u001b[1;36m  Cell \u001b[1;32mIn[1], line 3\u001b[1;36m\u001b[0m\n\u001b[1;33m    df = pd.read_csv('C:\\Users\\VIGNESH VARMA\\OneDrive\\Desktop\\SPEECH-EMOTION-DETECTION\\features.csv')\u001b[0m\n\u001b[1;37m                                                                                                    ^\u001b[0m\n\u001b[1;31mSyntaxError\u001b[0m\u001b[1;31m:\u001b[0m (unicode error) 'unicodeescape' codec can't decode bytes in position 2-3: truncated \\UXXXXXXXX escape\n"
     ]
    }
   ],
   "source": [
    "import pandas as pd\n",
    "import numpy as np\n",
    "df = pd.read_csv('C:\\Users\\VIGNESH VARMA\\OneDrive\\Desktop\\SPEECH-EMOTION-DETECTION\\features.csv')\n",
    "print(df.describe())  # Look at min/max values\n",
    "print(df.isna().sum())  # Check for NaNs\n",
    "print(df.isin([np.inf, -np.inf]).sum())  # Check for Infs"
   ]
  },
  {
   "cell_type": "code",
   "execution_count": 2,
   "metadata": {},
   "outputs": [
    {
     "name": "stdout",
     "output_type": "stream",
     "text": [
      "Loaded C:\\Users\\VIGNESH VARMA\\OneDrive\\Desktop\\SPEECH EMOTION RECOGNITION\\dataset\\Actor_01\\03-01-01-01-01-01-01.wav with sample rate 22050\n",
      "{'pitch_mean': 0.3727122486888112, 'pitch_std': 0.267765638078774, 'spectral_centroid': 3470.937689269014, 'spectral_bandwidth': 2628.243580630619, 'rms_energy': 0.002256089, 'energy_mean': 0.001662311, 'energy_std': 0.003636641, 'mfcc_1_mean': -697.7926, 'mfcc_2_mean': 54.89004, 'mfcc_3_mean': 0.66346556, 'mfcc_4_mean': 12.435786, 'mfcc_5_mean': 7.7339516, 'mfcc_6_mean': 0.5307504, 'mfcc_7_mean': -3.216631, 'mfcc_8_mean': -3.1593943, 'mfcc_9_mean': -10.977551, 'mfcc_10_mean': -2.848711, 'mfcc_11_mean': 0.8152975, 'mfcc_12_mean': -3.037067, 'mfcc_13_mean': 1.9554467}\n"
     ]
    }
   ],
   "source": [
    "from extract_features import extract_features\n",
    "features = extract_features(r\"C:\\Users\\VIGNESH VARMA\\OneDrive\\Desktop\\SPEECH EMOTION RECOGNITION\\dataset\\Actor_01\\03-01-01-01-01-01-01.wav\")\n",
    "print(features)"
   ]
  },
  {
   "cell_type": "code",
   "execution_count": 3,
   "metadata": {},
   "outputs": [
    {
     "name": "stdout",
     "output_type": "stream",
     "text": [
      "Emotion distribution:\n",
      "emotion\n",
      "calm         192\n",
      "happy        192\n",
      "sad          192\n",
      "angry        192\n",
      "fearful      192\n",
      "disgust      192\n",
      "surprised    192\n",
      "neutral       96\n",
      "Name: count, dtype: int64\n"
     ]
    }
   ],
   "source": [
    "import pandas as pd\n",
    "\n",
    "df = pd.read_csv('features.csv')\n",
    "print(\"Emotion distribution:\")\n",
    "print(df['emotion'].value_counts())"
   ]
  },
  {
   "cell_type": "code",
   "execution_count": 3,
   "metadata": {},
   "outputs": [
    {
     "name": "stdout",
     "output_type": "stream",
     "text": [
      "        pitch_mean    pitch_std  spectral_centroid  spectral_bandwidth  \\\n",
      "count  1440.000000  1440.000000        1440.000000         1440.000000   \n",
      "mean      0.252523     0.207818        2918.250695         2520.045680   \n",
      "std       0.071392     0.062497         361.398342          223.956894   \n",
      "min       0.065982     0.058666        1761.884011         1641.320900   \n",
      "25%       0.194681     0.156515        2666.327908         2403.899875   \n",
      "50%       0.258791     0.217833        2913.833940         2562.429850   \n",
      "75%       0.308012     0.258663        3179.595486         2677.546618   \n",
      "max       0.448468     0.336733        3903.816050         3030.171653   \n",
      "\n",
      "        rms_energy  energy_mean   energy_std  mfcc_1_mean  mfcc_2_mean  \\\n",
      "count  1440.000000  1440.000000  1440.000000  1440.000000  1440.000000   \n",
      "mean      0.010527     0.007884     0.016137  -588.125875    48.375022   \n",
      "std       0.012923     0.009710     0.020179   101.906376    15.911748   \n",
      "min       0.000351     0.000241     0.000591  -848.593600    -5.350825   \n",
      "25%       0.003007     0.002250     0.004461  -663.823515    38.130105   \n",
      "50%       0.005953     0.004408     0.008872  -594.653170    48.631124   \n",
      "75%       0.012070     0.009079     0.018160  -524.172970    59.568328   \n",
      "max       0.092270     0.069812     0.135098  -303.908300    96.597050   \n",
      "\n",
      "       mfcc_3_mean  mfcc_4_mean  mfcc_5_mean  mfcc_6_mean  mfcc_7_mean  \\\n",
      "count  1440.000000  1440.000000  1440.000000  1440.000000  1440.000000   \n",
      "mean     -5.164897     7.669101     0.667920    -4.493579    -5.687483   \n",
      "std      12.508975     7.939725     8.524891     6.986017     6.104230   \n",
      "min     -55.784220   -20.430021   -23.257391   -26.764631   -25.929209   \n",
      "25%     -12.940163     2.322944    -5.929373    -9.278186   -10.057320   \n",
      "50%      -4.887666     7.746552     0.587622    -4.834438    -5.973680   \n",
      "75%       3.362946    13.041788     7.052990     0.151355    -1.388755   \n",
      "max      28.183119    33.561005    22.148632    17.669943    13.087049   \n",
      "\n",
      "       mfcc_8_mean  mfcc_9_mean  mfcc_10_mean  mfcc_11_mean  mfcc_12_mean  \\\n",
      "count  1440.000000  1440.000000   1440.000000   1440.000000   1440.000000   \n",
      "mean     -8.888741    -6.727094     -1.941090     -3.302415     -3.466555   \n",
      "std       5.436128     4.591363      4.097375      4.575294      4.022782   \n",
      "min     -25.701900   -23.752401    -19.606726    -17.061314    -15.884318   \n",
      "25%     -12.892342    -9.603360     -4.666875     -6.586597     -5.993998   \n",
      "50%      -8.683557    -6.533266     -2.058462     -3.261798     -3.579371   \n",
      "75%      -4.924965    -3.717245      0.690667      0.112827     -1.353260   \n",
      "max       6.509428     7.503787     24.083012     13.990684     18.973047   \n",
      "\n",
      "       mfcc_13_mean  \n",
      "count   1440.000000  \n",
      "mean      -1.953298  \n",
      "std        4.150353  \n",
      "min      -14.072691  \n",
      "25%       -4.832766  \n",
      "50%       -2.168663  \n",
      "75%        0.365992  \n",
      "max       18.660755  \n",
      "pitch_mean            0\n",
      "pitch_std             0\n",
      "spectral_centroid     0\n",
      "spectral_bandwidth    0\n",
      "rms_energy            0\n",
      "energy_mean           0\n",
      "energy_std            0\n",
      "mfcc_1_mean           0\n",
      "mfcc_2_mean           0\n",
      "mfcc_3_mean           0\n",
      "mfcc_4_mean           0\n",
      "mfcc_5_mean           0\n",
      "mfcc_6_mean           0\n",
      "mfcc_7_mean           0\n",
      "mfcc_8_mean           0\n",
      "mfcc_9_mean           0\n",
      "mfcc_10_mean          0\n",
      "mfcc_11_mean          0\n",
      "mfcc_12_mean          0\n",
      "mfcc_13_mean          0\n",
      "emotion               0\n",
      "dtype: int64\n",
      "pitch_mean            0\n",
      "pitch_std             0\n",
      "spectral_centroid     0\n",
      "spectral_bandwidth    0\n",
      "rms_energy            0\n",
      "energy_mean           0\n",
      "energy_std            0\n",
      "mfcc_1_mean           0\n",
      "mfcc_2_mean           0\n",
      "mfcc_3_mean           0\n",
      "mfcc_4_mean           0\n",
      "mfcc_5_mean           0\n",
      "mfcc_6_mean           0\n",
      "mfcc_7_mean           0\n",
      "mfcc_8_mean           0\n",
      "mfcc_9_mean           0\n",
      "mfcc_10_mean          0\n",
      "mfcc_11_mean          0\n",
      "mfcc_12_mean          0\n",
      "mfcc_13_mean          0\n",
      "emotion               0\n",
      "dtype: int64\n"
     ]
    }
   ],
   "source": [
    "import pandas as pd\n",
    "import numpy as np\n",
    "df = pd.read_csv('C:\\\\Users\\\\VIGNESH VARMA\\\\OneDrive\\\\Desktop\\\\SPEECH-EMOTION-DETECTION\\\\features.csv')\n",
    "print(df.describe())  # Look at min/max values\n",
    "print(df.isna().sum())  # Check for NaNs\n",
    "print(df.isin([np.inf, -np.inf]).sum())  # Check for Infs"
   ]
  },
  {
   "cell_type": "code",
   "execution_count": 4,
   "metadata": {},
   "outputs": [
    {
     "name": "stdout",
     "output_type": "stream",
     "text": [
      "\u001b[1m4/4\u001b[0m \u001b[32m━━━━━━━━━━━━━━━━━━━━\u001b[0m\u001b[37m\u001b[0m \u001b[1m2s\u001b[0m 11ms/step - loss: 58.1092\n"
     ]
    },
    {
     "data": {
      "text/plain": [
       "<keras.src.callbacks.history.History at 0x284a68f53f0>"
      ]
     },
     "execution_count": 4,
     "metadata": {},
     "output_type": "execute_result"
    }
   ],
   "source": [
    "# test_tf.py\n",
    "import numpy as np\n",
    "from tensorflow.keras.models import Sequential\n",
    "from tensorflow.keras.layers import LSTM, Dense, Input\n",
    "\n",
    "X_train = np.random.rand(100, 1, 20).astype(np.float32)\n",
    "y_train = np.random.randint(0, 8, (100, 8)).astype(np.float32)\n",
    "\n",
    "model = Sequential([\n",
    "    Input(shape=(1, 20)),\n",
    "    LSTM(128, return_sequences=True),\n",
    "    LSTM(64),\n",
    "    Dense(8, activation='softmax')\n",
    "])\n",
    "model.compile(optimizer='adam', loss='categorical_crossentropy')\n",
    "model.fit(X_train, y_train, epochs=1, batch_size=32, verbose=1)"
   ]
  },
  {
   "cell_type": "code",
   "execution_count": 5,
   "metadata": {},
   "outputs": [
    {
     "ename": "SyntaxError",
     "evalue": "invalid syntax. Perhaps you forgot a comma? (2958299620.py, line 1)",
     "output_type": "error",
     "traceback": [
      "\u001b[1;36m  Cell \u001b[1;32mIn[5], line 1\u001b[1;36m\u001b[0m\n\u001b[1;33m    curl -X POST -F \"audio=@temp_audio.wav\" https://your-app-name.onrender.com/predict\u001b[0m\n\u001b[1;37m         ^\u001b[0m\n\u001b[1;31mSyntaxError\u001b[0m\u001b[1;31m:\u001b[0m invalid syntax. Perhaps you forgot a comma?\n"
     ]
    }
   ],
   "source": [
    "curl -X POST -F \"audio=@temp_audio.wav\" https://your-app-name.onrender.com/predict\n"
   ]
  },
  {
   "cell_type": "code",
   "execution_count": 6,
   "metadata": {},
   "outputs": [
    {
     "ename": "NameError",
     "evalue": "name 'extract_features' is not defined",
     "output_type": "error",
     "traceback": [
      "\u001b[1;31m---------------------------------------------------------------------------\u001b[0m",
      "\u001b[1;31mNameError\u001b[0m                                 Traceback (most recent call last)",
      "Cell \u001b[1;32mIn[6], line 1\u001b[0m\n\u001b[1;32m----> 1\u001b[0m feature_dict \u001b[38;5;241m=\u001b[39m \u001b[43mextract_features\u001b[49m(audio_path)\n\u001b[0;32m      2\u001b[0m \u001b[38;5;28mprint\u001b[39m(\u001b[38;5;124m\"\u001b[39m\u001b[38;5;124mExtracted features:\u001b[39m\u001b[38;5;124m\"\u001b[39m, \u001b[38;5;28mlen\u001b[39m(feature_dict), feature_dict)\n",
      "\u001b[1;31mNameError\u001b[0m: name 'extract_features' is not defined"
     ]
    }
   ],
   "source": [
    "feature_dict = extract_features(audio_path)\n",
    "print(\"Extracted features:\", len(feature_dict), feature_dict)"
   ]
  },
  {
   "cell_type": "code",
   "execution_count": null,
   "metadata": {},
   "outputs": [],
   "source": []
  }
 ],
 "metadata": {
  "kernelspec": {
   "display_name": "Python 3",
   "language": "python",
   "name": "python3"
  },
  "language_info": {
   "codemirror_mode": {
    "name": "ipython",
    "version": 3
   },
   "file_extension": ".py",
   "mimetype": "text/x-python",
   "name": "python",
   "nbconvert_exporter": "python",
   "pygments_lexer": "ipython3",
   "version": "3.10.0"
  }
 },
 "nbformat": 4,
 "nbformat_minor": 2
}
