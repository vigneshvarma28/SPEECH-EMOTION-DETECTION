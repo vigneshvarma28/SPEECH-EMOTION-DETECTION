{
 "cells": [
  {
   "cell_type": "code",
   "execution_count": 1,
   "metadata": {},
   "outputs": [
    {
     "name": "stdout",
     "output_type": "stream",
     "text": [
      "PySoundFile installed successfully: 0.9.0\n",
      "Loaded audio successfully: (72838,) 22050\n"
     ]
    }
   ],
   "source": [
    "import soundfile\n",
    "print(\"PySoundFile installed successfully:\", soundfile.__version__)\n",
    "import librosa\n",
    "audio_path = r\"C:\\Users\\VIGNESH VARMA\\OneDrive\\Desktop\\SPEECH EMOTION RECOGNITION\\dataset\\Actor_01\\03-01-01-01-01-01-01.wav\"\n",
    "y, sr = librosa.load(audio_path, sr=22050)\n",
    "print(\"Loaded audio successfully:\", y.shape, sr)"
   ]
  },
  {
   "cell_type": "code",
   "execution_count": 2,
   "metadata": {},
   "outputs": [
    {
     "name": "stdout",
     "output_type": "stream",
     "text": [
      "Loaded C:\\Users\\VIGNESH VARMA\\OneDrive\\Desktop\\SPEECH EMOTION RECOGNITION\\dataset\\Actor_01\\03-01-01-01-01-01-01.wav with sample rate 22050\n",
      "{'pitch_mean': 0.3727122486888112, 'pitch_std': 0.267765638078774, 'spectral_centroid': 3470.937689269014, 'spectral_bandwidth': 2628.243580630619, 'rms_energy': 0.002256089, 'energy_mean': 0.001662311, 'energy_std': 0.003636641, 'mfcc_1_mean': -697.7926, 'mfcc_2_mean': 54.89004, 'mfcc_3_mean': 0.66346556, 'mfcc_4_mean': 12.435786, 'mfcc_5_mean': 7.7339516, 'mfcc_6_mean': 0.5307504, 'mfcc_7_mean': -3.216631, 'mfcc_8_mean': -3.1593943, 'mfcc_9_mean': -10.977551, 'mfcc_10_mean': -2.848711, 'mfcc_11_mean': 0.8152975, 'mfcc_12_mean': -3.037067, 'mfcc_13_mean': 1.9554467}\n"
     ]
    }
   ],
   "source": [
    "from extract_features import extract_features\n",
    "features = extract_features(r\"C:\\Users\\VIGNESH VARMA\\OneDrive\\Desktop\\SPEECH EMOTION RECOGNITION\\dataset\\Actor_01\\03-01-01-01-01-01-01.wav\")\n",
    "print(features)"
   ]
  },
  {
   "cell_type": "code",
   "execution_count": 3,
   "metadata": {},
   "outputs": [
    {
     "name": "stdout",
     "output_type": "stream",
     "text": [
      "Emotion distribution:\n",
      "emotion\n",
      "calm         192\n",
      "happy        192\n",
      "sad          192\n",
      "angry        192\n",
      "fearful      192\n",
      "disgust      192\n",
      "surprised    192\n",
      "neutral       96\n",
      "Name: count, dtype: int64\n"
     ]
    }
   ],
   "source": [
    "import pandas as pd\n",
    "\n",
    "df = pd.read_csv('features.csv')\n",
    "print(\"Emotion distribution:\")\n",
    "print(df['emotion'].value_counts())"
   ]
  },
  {
   "cell_type": "code",
   "execution_count": null,
   "metadata": {},
   "outputs": [],
   "source": []
  }
 ],
 "metadata": {
  "kernelspec": {
   "display_name": "Python 3",
   "language": "python",
   "name": "python3"
  },
  "language_info": {
   "codemirror_mode": {
    "name": "ipython",
    "version": 3
   },
   "file_extension": ".py",
   "mimetype": "text/x-python",
   "name": "python",
   "nbconvert_exporter": "python",
   "pygments_lexer": "ipython3",
   "version": "3.10.0"
  }
 },
 "nbformat": 4,
 "nbformat_minor": 2
}
